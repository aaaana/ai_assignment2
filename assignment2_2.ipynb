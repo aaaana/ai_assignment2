{
 "cells": [
  {
   "cell_type": "code",
   "execution_count": 1,
   "id": "b790bc65",
   "metadata": {},
   "outputs": [],
   "source": [
    "import numpy as np \n",
    "\n",
    "#hypothesis function -- h(theta) = theta1 + theta2*x\n",
    "# loss function -- l=[h(x(i))-y(i)^2]\n",
    "#cost function --J(theta) = [h(x(i) - y(i))]^2/(2*m)\n",
    "\n",
    "def training(tr_set):\n",
    "    (theta1,theta2,theta3) = (0,0,0) # initialize the value \n",
    "    alpha = 0.01 #set up learning rate \n",
    "    m = len(tr_set) #Get number of samples in training set \n",
    "    iteration = 36000\n",
    "    while iteration > 0:\n",
    "        dtheta1=0\n",
    "        dtheta2=0\n",
    "        dtheta3 = 0\n",
    "        for x in tr_set:\n",
    "            dtheta1=dtheta1+((theta1*x[0]+theta2*x[1]+theta3*x[2])-x[3])*x[0]\n",
    "\n",
    "            dtheta2=dtheta2+((theta1*x[0]+theta2*x[1]+theta3*x[2])-x[3])*x[1]\n",
    "\n",
    "            dtheta3=dtheta3+((theta1*x[0]+theta2*x[1]+theta3*x[2])-x[3])*x[2]\n",
    "\n",
    "            theta1=theta1-alpha*dtheta1/m\n",
    "\n",
    "            theta2=theta2-alpha*dtheta2/m\n",
    "\n",
    "            theta3=theta3-alpha*dtheta3/m\n",
    "\n",
    "            iteration-=1\n",
    "\n",
    "    return (theta1, theta2, theta3)\n",
    "\n",
    "\n",
    "def pred(training_set,test_set):\n",
    "    (t1,t2,t3)=training(training_set)\n",
    "\n",
    "        #print(t1,t2,t3)\n",
    "\n",
    "    return t1*test_set[0]+t2*test_set[1]+t3*test_set[2]\n",
    "\n"
   ]
  },
  {
   "cell_type": "code",
   "execution_count": 2,
   "id": "e24aedaf",
   "metadata": {},
   "outputs": [],
   "source": [
    "\n",
    "tr=[[1,-0.195652174,-0.433333333,-0.177897574],[1,-0.152173913,0.277777778,-0.121293801],[1,0.413043478,0.411111111,0.350404313],[1,-0.326086957,-0.122222222,0.04851752],[1,-0.065217391,-0.344444444,0.105121294],[1,0.152173913,0.033333333,0.067385445],[1,0.065217391,-0.188888889,-0.309973046],[1,0.543478261,0.411111111,0.690026954],[1,-0.065217391,0.411111111,0.180592992],[1,-0.456521739,-0.522222222,-0.215633423],[1,-0.065217391,-0.233333333,-0.15902965],[1,0.5,0.477777778,0.105121294],[1,-0.195652174,-0.077777778,-0.291105121],[1,-0.152173913,-0.1,-0.272237197]]\n",
    "\n",
    "tr=np.array(tr) # matrix format"
   ]
  },
  {
   "cell_type": "code",
   "execution_count": 3,
   "id": "c71e754d",
   "metadata": {},
   "outputs": [
    {
     "name": "stdout",
     "output_type": "stream",
     "text": [
      "After training:  0.08177460268658995 \n",
      "predict value:  130.76262534238927\n",
      "After training:  0.36117888531877074 \n",
      "predict value:  145.57105232189485\n"
     ]
    }
   ],
   "source": [
    "test=[[1,0.02173913, 0.166666667],[1,0.630434783,0.055555556]]\n",
    "\n",
    "test=np.array(test)\n",
    "\n",
    "for pre in test:\n",
    "\n",
    "    print(\"After training: \",pred(tr,pre) ,\"\\npredict value: \", pred(tr,pre)*53 + 126.4285714)"
   ]
  },
  {
   "cell_type": "code",
   "execution_count": null,
   "id": "23772f04",
   "metadata": {},
   "outputs": [],
   "source": []
  }
 ],
 "metadata": {
  "kernelspec": {
   "display_name": "Python 3 (ipykernel)",
   "language": "python",
   "name": "python3"
  },
  "language_info": {
   "codemirror_mode": {
    "name": "ipython",
    "version": 3
   },
   "file_extension": ".py",
   "mimetype": "text/x-python",
   "name": "python",
   "nbconvert_exporter": "python",
   "pygments_lexer": "ipython3",
   "version": "3.9.12"
  }
 },
 "nbformat": 4,
 "nbformat_minor": 5
}
