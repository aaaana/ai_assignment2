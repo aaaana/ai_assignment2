{
 "cells": [
  {
   "cell_type": "code",
   "execution_count": 3,
   "id": "9a7287ba",
   "metadata": {},
   "outputs": [
    {
     "name": "stdout",
     "output_type": "stream",
     "text": [
      "Intercept: \n",
      " 1.3030303030303045\n",
      "Coefficient: \n",
      " [0.96969697]\n"
     ]
    }
   ],
   "source": [
    "import pandas as pd \n",
    "import numpy as np \n",
    "from sklearn.linear_model import LinearRegression\n",
    "import matplotlib.pyplot as plt\n",
    "\n",
    "model_linear=LinearRegression()\n",
    "\n",
    "data = {'x':[1,3,5,7,9,11,13,15,17,19],'y':[3,3,7,7,11,11,15,15,19,19]}\n",
    "\n",
    "data_frame=pd.DataFrame(data)\n",
    "data_frame\n",
    "\n",
    "x = np.array(data_frame['x']).reshape(-1,1)\n",
    "y = np.array(data_frame['y'])\n",
    "\n",
    "model_linear.fit(x,y)\n",
    "\n",
    "print(\"Intercept: \\n\",model_linear.intercept_)\n",
    "print(\"Coefficient: \\n\",model_linear.coef_)"
   ]
  },
  {
   "cell_type": "code",
   "execution_count": 4,
   "id": "edfff9c8",
   "metadata": {},
   "outputs": [
    {
     "data": {
      "text/plain": [
       "[<matplotlib.lines.Line2D at 0x269f08db250>]"
      ]
     },
     "execution_count": 4,
     "metadata": {},
     "output_type": "execute_result"
    },
    {
     "data": {
      "image/png": "[encoded data removed]",
      "text/plain": [
       "<Figure size 432x288 with 1 Axes>"
      ]
     },
     "metadata": {
      "needs_background": "light"
     },
     "output_type": "display_data"
    }
   ],
   "source": [
    "plt.plot(x,y)"
   ]
  },
  {
   "cell_type": "code",
   "execution_count": 5,
   "id": "5624dd9c",
   "metadata": {},
   "outputs": [
    {
     "ename": "NameError",
     "evalue": "name 'figsave' is not defined",
     "output_type": "error",
     "traceback": [
      "\u001b[1;31m---------------------------------------------------------------------------\u001b[0m",
      "\u001b[1;31mNameError\u001b[0m                                 Traceback (most recent call last)",
      "Input \u001b[1;32mIn [5]\u001b[0m, in \u001b[0;36m<cell line: 1>\u001b[1;34m()\u001b[0m\n\u001b[1;32m----> 1\u001b[0m \u001b[43mfigsave\u001b[49m\n",
      "\u001b[1;31mNameError\u001b[0m: name 'figsave' is not defined"
     ]
    }
   ],
   "source": [
    "figsave"
   ]
  },
  {
   "cell_type": "code",
   "execution_count": null,
   "id": "25f572e2",
   "metadata": {},
   "outputs": [],
   "source": []
  }
 ],
 "metadata": {
  "kernelspec": {
   "display_name": "Python 3 (ipykernel)",
   "language": "python",
   "name": "python3"
  },
  "language_info": {
   "codemirror_mode": {
    "name": "ipython",
    "version": 3
   },
   "file_extension": ".py",
   "mimetype": "text/x-python",
   "name": "python",
   "nbconvert_exporter": "python",
   "pygments_lexer": "ipython3",
   "version": "3.9.12"
  }
 },
 "nbformat": 4,
 "nbformat_minor": 5
}
